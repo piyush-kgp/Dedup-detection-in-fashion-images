{
 "cells": [
  {
   "cell_type": "code",
   "execution_count": 4,
   "metadata": {},
   "outputs": [],
   "source": [
    "import cv2\n",
    "import os\n",
    "import numpy as np\n",
    "import matplotlib.pyplot as plt\n",
    "%matplotlib inline\n",
    "import time\n",
    "import skimage\n",
    "# from skimage.measure import structural_similarity as ssim"
   ]
  },
  {
   "cell_type": "code",
   "execution_count": 6,
   "metadata": {},
   "outputs": [
    {
     "data": {
      "text/plain": [
       "['boldtfzardyqapzr.jpg',\n",
       " 'boldzy8hphy6en5j.jpg',\n",
       " 'boledwxx9d5bauu4.jpg',\n",
       " 'boledwxxa537wf6p.jpg',\n",
       " 'boledwxxcvfeddmh.jpg',\n",
       " 'boledwxxfhjbsqhn.jpg',\n",
       " 'boledwxxkydkcpj6.jpg',\n",
       " 'boledwxxmsqagdah.jpg',\n",
       " 'boledwxxnmdtnypd.jpg',\n",
       " 'boledwxxnv6y6skh.jpg']"
      ]
     },
     "execution_count": 6,
     "metadata": {},
     "output_type": "execute_result"
    }
   ],
   "source": [
    "img_dir = 'Images'\n",
    "img_files = os.listdir(img_dir)\n",
    "img_files = sorted(img_files)"
   ]
  },
  {
   "cell_type": "code",
   "execution_count": null,
   "metadata": {},
   "outputs": [],
   "source": [
    "# Finding out how much time it takes in simply reading all images.\n",
    "tit=time.time()\n",
    "for i, img_file in enumerate(img_files):\n",
    "    img = cv2.imread(os.path.join(img_dir, img_file))\n",
    "    pass\n",
    "tat=time.time()\n",
    "tat-tit"
   ]
  },
  {
   "cell_type": "code",
   "execution_count": 33,
   "metadata": {},
   "outputs": [
    {
     "data": {
      "text/plain": [
       "0.951844450864182"
      ]
     },
     "execution_count": 33,
     "metadata": {},
     "output_type": "execute_result"
    }
   ],
   "source": [
    "img1=cv2.imread('Images/boldtfzardyqapzr.jpg')\n",
    "img2=cv2.imread('Images/boldzy8hphy6en5j.jpg')\n",
    "skimage.measure.compare_ssim(cv2.resize(img1, (299, 299)), cv2.resize(img2, (299, 299)), multichannel = True)"
   ]
  },
  {
   "cell_type": "code",
   "execution_count": null,
   "metadata": {},
   "outputs": [],
   "source": [
    "def dist_measure(img1, img2):\n",
    "    return skimage.measure.compare_ssim(img1, img2, multichannel = True)"
   ]
  },
  {
   "cell_type": "code",
   "execution_count": null,
   "metadata": {},
   "outputs": [],
   "source": [
    "class KMeans:\n",
    "    \"\"\"\n",
    "    K-means clustering of images in a directory with Custom distance.\n",
    "    Borrows some functions from Scikit-Learn implementation of the algorithm\n",
    "    \"\"\"\n",
    "    def __init__(self, img_dir, K=100, distance_function = dist_measure):\n",
    "        self.distance_function = distance_function\n",
    "        self.K = K\n",
    "        img_files = os.listdir(img_dir)\n",
    "        img_files = sorted(img_files)\n",
    "        img_stack = np.zeros((len(img_files), 299, 299, 3))\n",
    "        for i, img_file in enumerate(img_files):\n",
    "            if i<10:\n",
    "                img = cv2.imread(os.path.join(img_dir, img_file))\n",
    "                img_stack[i] = cv2.resize(img, (299, 299))\n",
    "        self.data = img_stack\n",
    "        \n",
    "    def get_initial_centroids(self, seed=1):\n",
    "        \"\"\"\"\n",
    "        Randomly choose k data points as initial centroids\n",
    "        Args: data - A dataset of shape N, D\n",
    "        \"\"\"\n",
    "        n = self.data.shape[0] # number of data points\n",
    "        np.random.seed(seed)\n",
    "        rand_indices = np.random.randint(0, n, K)\n",
    "        self.centroids = self.data[rand_indices]\n",
    "        return self.centroids\n",
    "    \n",
    "    def centroid_pairwise_dist(self):\n",
    "        \"\"\"\n",
    "        Calculates a NxK distance matrix between each data point to each centroid\n",
    "        This matrix needs to be evaluated at each iteration of the K-Means algorithm\n",
    "        \"\"\"\n",
    "        distance_matrix = []\n",
    "        for i, data_point in enumerate(self.data):\n",
    "            distance_matrix[i] = np.array([self.distance_function(data_point, centroid) for centroid in self.centroids])\n",
    "        return distance_matrix\n",
    "\n",
    "    def assign_clusters(self):\n",
    "        \"\"\"\n",
    "        Assignes new clusters using distances from the current centroids\n",
    "        \"\"\"\n",
    "        distances_from_centroids = self.centroid_pairwise_dist()\n",
    "        cluster_assignment = np.argmin(distances_from_centroids,axis=1)\n",
    "        return cluster_assignment\n",
    "\n",
    "    def revise_centroids(self):\n",
    "        \"\"\"\n",
    "        Calculates new centroids with the current assigned clusters\n",
    "        \"\"\"\n",
    "        cluster_assignment = self.assign_clusters()\n",
    "        new_centroids = []\n",
    "        for i in range(self.K):\n",
    "            member_data_points = self.data[cluster_assignment==i]\n",
    "            centroid = member_data_points.mean(axis=0)\n",
    "            new_centroids.append(centroid)\n",
    "        new_centroids = np.array(new_centroids)\n",
    "        return new_centroids\n",
    "        \n",
    "    def k_means_clustering(self, maxiter = 100):\n",
    "        \"\"\"\n",
    "        Performs K-Means Clustering by iterating the steps of cluster assignment and centroid revision\n",
    "        \"\"\"\n",
    "        centroids = self.get_initial_centroids()\n",
    "        prev_cluster_assignment = None\n",
    "        for itr in range(maxiter):        \n",
    "            cluster_assignment = self.assign_clusters()\n",
    "            centroids = self.revise_centroids()\n",
    "            if prev_cluster_assignment is not None and (prev_cluster_assignment==cluster_assignment).all():\n",
    "                #convergence check\n",
    "                break\n",
    "            if prev_cluster_assignment is not None:\n",
    "                prev_cluster_assignment = cluster_assignment\n",
    "        return self.centroids, self.cluster_assignment\n",
    "\n",
    "\n"
   ]
  },
  {
   "cell_type": "code",
   "execution_count": 54,
   "metadata": {},
   "outputs": [
    {
     "data": {
      "text/plain": [
       "'bow bow'"
      ]
     },
     "execution_count": 54,
     "metadata": {},
     "output_type": "execute_result"
    }
   ],
   "source": [
    "def bark(x):\n",
    "    return 'bow bow'\n",
    "\n",
    "class Dog:\n",
    "    def whine(self, sound=bark):\n",
    "        return sound(9)\n",
    "doggy=Dog()\n",
    "doggy.whine()"
   ]
  },
  {
   "cell_type": "code",
   "execution_count": 6,
   "metadata": {
    "scrolled": true
   },
   "outputs": [
    {
     "name": "stdout",
     "output_type": "stream",
     "text": [
      "boldtfzardyqapzr.jpg not stacked\n",
      "boldzy8hphy6en5j.jpg not stacked\n",
      "boledwxx9d5bauu4.jpg not stacked\n",
      "boledwxxa537wf6p.jpg not stacked\n",
      "boledwxxcvfeddmh.jpg not stacked\n",
      "boledwxxfhjbsqhn.jpg not stacked\n",
      "boledwxxkydkcpj6.jpg not stacked\n",
      "boledwxxmsqagdah.jpg not stacked\n",
      "boledwxxnmdtnypd.jpg not stacked\n",
      "boledwxxnv6y6skh.jpg not stacked\n"
     ]
    }
   ],
   "source": [
    "img_stack = np.zeros((len(img_files), 299, 299, 3))\n",
    "not_stacked = []\n",
    "for i, img_file in enumerate(img_files):\n",
    "    if i<10:\n",
    "        try:\n",
    "            img = cv2.imread(os.path.join(img_dir, img_file))\n",
    "            img_stack[i] = img\n",
    "        except:\n",
    "            not_stacked.append(img_file)\n",
    "            print('%s not stacked' %img_file)\n",
    "            "
   ]
  },
  {
   "cell_type": "code",
   "execution_count": 45,
   "metadata": {},
   "outputs": [
    {
     "data": {
      "text/plain": [
       "'bow bow'"
      ]
     },
     "execution_count": 45,
     "metadata": {},
     "output_type": "execute_result"
    }
   ],
   "source": [
    "doggy.bark()"
   ]
  },
  {
   "cell_type": "code",
   "execution_count": 94,
   "metadata": {},
   "outputs": [
    {
     "data": {
      "text/plain": [
       "5"
      ]
     },
     "execution_count": 94,
     "metadata": {},
     "output_type": "execute_result"
    }
   ],
   "source": [
    "class Dog:\n",
    "    def f(self):\n",
    "        self.x=5\n",
    "        return 0\n",
    "    def g(self):\n",
    "        self.f()\n",
    "        return self.x\n",
    "a=Dog()\n",
    "a.g()"
   ]
  },
  {
   "cell_type": "code",
   "execution_count": 106,
   "metadata": {
    "scrolled": true
   },
   "outputs": [
    {
     "name": "stdout",
     "output_type": "stream",
     "text": [
      "(2, 100, 100, 3)\n",
      "ok\n",
      "ok\n"
     ]
    }
   ],
   "source": [
    "x=np.random.randn(10, 100, 100, 3)\n",
    "y = x[np.random.randint(0, 5, 2)]\n",
    "print(y.shape)\n",
    "for _ in y:\n",
    "    print('ok')"
   ]
  },
  {
   "cell_type": "code",
   "execution_count": 111,
   "metadata": {},
   "outputs": [
    {
     "data": {
      "text/plain": [
       "(3,)"
      ]
     },
     "execution_count": 111,
     "metadata": {},
     "output_type": "execute_result"
    }
   ],
   "source": [
    "np.array([3,4,5]).shape"
   ]
  },
  {
   "cell_type": "code",
   "execution_count": null,
   "metadata": {},
   "outputs": [],
   "source": []
  },
  {
   "cell_type": "code",
   "execution_count": null,
   "metadata": {},
   "outputs": [],
   "source": []
  }
 ],
 "metadata": {
  "kernelspec": {
   "display_name": "Python 3",
   "language": "python",
   "name": "python3"
  },
  "language_info": {
   "codemirror_mode": {
    "name": "ipython",
    "version": 3
   },
   "file_extension": ".py",
   "mimetype": "text/x-python",
   "name": "python",
   "nbconvert_exporter": "python",
   "pygments_lexer": "ipython3",
   "version": "3.6.5"
  }
 },
 "nbformat": 4,
 "nbformat_minor": 2
}
