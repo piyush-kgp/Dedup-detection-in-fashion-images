{
 "cells": [
  {
   "cell_type": "code",
   "execution_count": 1,
   "metadata": {
    "scrolled": true
   },
   "outputs": [
    {
     "name": "stderr",
     "output_type": "stream",
     "text": [
      "/usr/local/lib/python3.6/site-packages/IPython/core/interactiveshell.py:2785: DtypeWarning: Columns (19,29,30) have mixed types. Specify dtype option on import or set low_memory=False.\n",
      "  interactivity=interactivity, compiler=compiler, result=result)\n"
     ]
    },
    {
     "name": "stdout",
     "output_type": "stream",
     "text": [
      "(4057189, 32)\n",
      "(4054142, 32)\n"
     ]
    }
   ],
   "source": [
    "import pandas as pd\n",
    "import os\n",
    "import urllib\n",
    "\n",
    "pd.set_option('display.max_colwidth', -1)\n",
    "pd.set_option('display.max_columns', None)\n",
    "large = pd.read_csv('large/2oq-c1r.csv')\n",
    "print(large.shape)\n",
    "large = large.drop_duplicates(subset='productId', keep=\"first\")\n",
    "print(large.shape)\n",
    "large['primaryImageUrlStr'] = [str(item).split(';')[0] for item in large.imageUrlStr]"
   ]
  },
  {
   "cell_type": "code",
   "execution_count": 2,
   "metadata": {},
   "outputs": [],
   "source": [
    "large['subcategory_levels'] = [str(item).split('>') for item in large['categories']]\n",
    "large['n_levels'] = [len(item) for item in large.subcategory_levels]\n",
    "\n",
    "large['subcategory_1'] = [item[0].lower() if len(item)>=1 else 'None' for item in large.subcategory_levels]\n",
    "large['subcategory_2'] = [item[1].lower() if len(item)>=2 else 'None' for item in large.subcategory_levels]\n",
    "large['subcategory_3'] = [item[2].lower() if len(item)>=3 else 'None' for item in large.subcategory_levels]\n",
    "large['subcategory_4'] = [item[3].lower() if len(item)>=4 else 'None' for item in large.subcategory_levels]\n",
    "large['subcategory_5'] = [item[4].lower() if len(item)>=5 else 'None' for item in large.subcategory_levels]\n",
    "large['subcategory_6'] = [item[5].lower() if len(item)>=6 else 'None' for item in large.subcategory_levels]\n"
   ]
  },
  {
   "cell_type": "code",
   "execution_count": 3,
   "metadata": {},
   "outputs": [
    {
     "name": "stdout",
     "output_type": "stream",
     "text": [
      "Number of times the word top appears in subcategory levels 1 to 6 => 0 0 0 645233 350415 71\n"
     ]
    }
   ],
   "source": [
    "print('Number of times the word top appears in subcategory levels 1 to 6 =>',\n",
    "      sum(large.subcategory_1.str.contains('top')), \n",
    "      sum(large.subcategory_2.str.contains('top')), \n",
    "      sum(large.subcategory_3.str.contains('top')), \n",
    "      sum(large.subcategory_4.str.contains('top')), \n",
    "      sum(large.subcategory_5.str.contains('top')), \n",
    "      sum(large.subcategory_6.str.contains('top')),\n",
    "     )"
   ]
  },
  {
   "cell_type": "code",
   "execution_count": 4,
   "metadata": {},
   "outputs": [
    {
     "name": "stdout",
     "output_type": "stream",
     "text": [
      "(645233, 41)\n"
     ]
    }
   ],
   "source": [
    "large = large[large.subcategory_4.str.contains('top')]\n",
    "print(large.shape)"
   ]
  },
  {
   "cell_type": "code",
   "execution_count": 5,
   "metadata": {},
   "outputs": [
    {
     "name": "stdout",
     "output_type": "stream",
     "text": [
      "(164586, 41)\n"
     ]
    }
   ],
   "source": [
    "large = large.drop_duplicates(subset='primaryImageUrlStr', keep=\"first\")\n",
    "print(large.shape)"
   ]
  },
  {
   "cell_type": "code",
   "execution_count": 7,
   "metadata": {},
   "outputs": [
    {
     "data": {
      "text/plain": [
       "'********************************************************************************************************************'"
      ]
     },
     "execution_count": 7,
     "metadata": {},
     "output_type": "execute_result"
    }
   ],
   "source": [
    "'********************************************************************************************************************'"
   ]
  },
  {
   "cell_type": "code",
   "execution_count": null,
   "metadata": {},
   "outputs": [],
   "source": []
  },
  {
   "cell_type": "code",
   "execution_count": null,
   "metadata": {},
   "outputs": [
    {
     "name": "stdout",
     "output_type": "stream",
     "text": [
      "nan\n",
      "http://img.fkcdn.com/image/top/n/8/x/1-1-kkg025-keekar-gujju-xl-original-imae8mw2zqpekjrw.jpeg\n",
      "http://img.fkcdn.com/image/top/g/h/g/stsf0092-saieraa-xl-original-imaehhbucyqjzxup.jpeg\n",
      "http://img.fkcdn.com/image/t-shirt/4/5/z/bag-lt-09-bawri-l-original-imaemhkq4jrc8fgu.jpeg\n"
     ]
    }
   ],
   "source": [
    "bad_product_ids = []\n",
    "for _, row in large.iterrows():\n",
    "    if os.path.isfile('Images/'+ row.productId.lower()+'.jpg'):\n",
    "        continue\n",
    "    try:\n",
    "        urllib.request.urlretrieve(row.primaryImageUrlStr, 'Images/'+ row.productId.lower()+'.jpg')\n",
    "    except:\n",
    "        print(row.primaryImageUrlStr)\n",
    "        bad_product_ids.append(row.primaryImageUrlStr)"
   ]
  },
  {
   "cell_type": "code",
   "execution_count": null,
   "metadata": {},
   "outputs": [],
   "source": []
  },
  {
   "cell_type": "code",
   "execution_count": null,
   "metadata": {},
   "outputs": [],
   "source": []
  },
  {
   "cell_type": "code",
   "execution_count": null,
   "metadata": {},
   "outputs": [],
   "source": []
  },
  {
   "cell_type": "code",
   "execution_count": 20,
   "metadata": {},
   "outputs": [
    {
     "data": {
      "text/plain": [
       "('xyz.jpg', <http.client.HTTPMessage at 0x312cd6518>)"
      ]
     },
     "execution_count": 20,
     "metadata": {},
     "output_type": "execute_result"
    }
   ],
   "source": [
    "urllib.request.urlretrieve('http://img.fkcdn.com/image/tunic/k/j/8/1-1-elegant-tee-p-pink-lovable-xxl-original-imae75kbhd8epmhg.jpeg', 'xyz.jpg')"
   ]
  },
  {
   "cell_type": "code",
   "execution_count": null,
   "metadata": {},
   "outputs": [],
   "source": []
  },
  {
   "cell_type": "code",
   "execution_count": null,
   "metadata": {},
   "outputs": [],
   "source": []
  },
  {
   "cell_type": "code",
   "execution_count": null,
   "metadata": {},
   "outputs": [],
   "source": []
  },
  {
   "cell_type": "code",
   "execution_count": null,
   "metadata": {},
   "outputs": [],
   "source": []
  },
  {
   "cell_type": "code",
   "execution_count": null,
   "metadata": {},
   "outputs": [],
   "source": []
  },
  {
   "cell_type": "code",
   "execution_count": null,
   "metadata": {},
   "outputs": [],
   "source": []
  },
  {
   "cell_type": "code",
   "execution_count": null,
   "metadata": {},
   "outputs": [],
   "source": []
  },
  {
   "cell_type": "code",
   "execution_count": null,
   "metadata": {},
   "outputs": [],
   "source": []
  },
  {
   "cell_type": "code",
   "execution_count": null,
   "metadata": {},
   "outputs": [],
   "source": []
  },
  {
   "cell_type": "code",
   "execution_count": null,
   "metadata": {},
   "outputs": [],
   "source": []
  },
  {
   "cell_type": "code",
   "execution_count": null,
   "metadata": {},
   "outputs": [],
   "source": []
  },
  {
   "cell_type": "code",
   "execution_count": null,
   "metadata": {},
   "outputs": [],
   "source": []
  },
  {
   "cell_type": "code",
   "execution_count": null,
   "metadata": {},
   "outputs": [],
   "source": []
  },
  {
   "cell_type": "code",
   "execution_count": null,
   "metadata": {},
   "outputs": [],
   "source": []
  },
  {
   "cell_type": "code",
   "execution_count": null,
   "metadata": {},
   "outputs": [],
   "source": []
  },
  {
   "cell_type": "code",
   "execution_count": 7,
   "metadata": {},
   "outputs": [
    {
     "name": "stdout",
     "output_type": "stream",
     "text": [
      "\n",
      "\n",
      "Unique Subcategory 1 => {'womens_clothing', 'nan', 'home improvement', 'footwear', '[[]]', 'sports & fitness', 'mobiles', '[[{\"nodeid\":20001,\"nodename\":\"flipkart_tree\"}]]', 'home decor', 'baby care', 'party supplies', 'dummy', 'home furnishing', 'lifestyle', 'household', 'health and beauty', 'apparels'} \n",
      "\n",
      "Unique Subcategory 2 => {'living', 'invalid', 'leather & travel accessories', 'other sports', 'infants wear', 'mobile accessories', 'kids', 'women', 'feeding & nursing', 'water sports', 'men', 'jewellery', 'mens grooming', 'fragrances', 'outdoor & adventure', 'None', 'cookware', 'accessories', 'clocks & wall decor'} \n",
      "\n",
      "Unique Subcategory 3 => {'keyboard replacement keys', 'combo sets', 'girls', 'suits and blazers', 'bibs & hankies', 'formal shirts', 'formal wear', 'jeans', 'accessories', 'boys', 'maternity wear', 'boxing', 'sports & gym wear', 'trousers', 'power banks', 'infants', 'deodorants', 'screen protectors', 'silver jewellery', 'innerwear & sleepwear', 'ethnic wear', 'winter & seasonal wear', 'pillows', 'sportswear', 'diving & snorkeling', 'bags, belts & wallets combo', 'swimming', 'fusion wear', 'running', 'fabrics', 'baby boys', 'body and skin care', 'western wear', 'baby girls', 'wall decor', 'wrist bands', 'pots & pans', 'artificial jewellery', 'ethnicwear', 'hats', 'casual shirts', 'winterwear & seasonalwear', 'cargos, shorts & 3/4ths', 'gift sets', 'suspenders', 'polos & t-shirts', 'lingerie & sleepwear', 'None'} \n",
      "\n",
      "Unique Subcategory 4 => {'swimsuits', 'three fourths', 'jackets', 'bra charm and brooch', 'posters', 'socks', 'applique patches', 'jeans', 'cardigans', 'shirts', 'moisturizers and creams', 'abayas & burqas', 'ethnic sets', 'top', 'kurta fabrics', 'night suits', 'jacket fabrics', 'thermal pants', 'leg warmers', 'shorts & capris', 'sports bras', 'shapewears', 'night dresses & nighties', 'waistcoats', 'pans & tawas', 'lingerie accessories', 'fabrics', 'baby boys', 'raincoats', 'dress materials', 'churidars', 'lingerie sets', 'scarves & stoles', 'shirt fabrics', 'saris', 'suits', 'kurtas', 'wristbands', 'track tops', 'briefs', 'accessories', 'sweaters & pullovers', 'kurtas & kurtis', 'thermal tops', 'shawls', 'salwar suits', 'swim & beach wear', 'pyjamas & lounge pants', 'tights', 'camisoles & slips', 'trousers & cargos', 'boxers', 'babydolls', 'compression wear', 'blazers', 'trousers & capris', 't-shirts', 'panties', 'polos & t-shirts', 'lingerie & sleepwear', 'None', 'thermals', 'corsets', 'track suits', 'shrugs & jackets', 'coats', 'mufflers', 'dupattas', 'harem pants', 'pocket squares', 'trousers', 'innerwear & sleepwear', 'ethnic wear', 'winter & seasonal wear', 'dungarees & jumpsuits', 't-shirts & tops', 'ethnic bottoms', 'caps', 'guards', 'sauna suits', 'jeggings & treggings', 'dresses & skirts', 'combos', 'sweaters', 'shirt & trouser fabrics', 'diving masks', 'handkerchiefs', 'trouser fabrics', 'skirts', 'suit fabrics', 'hankies', 'scarfs', 'mittens', 'shorts', 'petticoats', 'lingerie, sleep & swimwear', 'lehenga cholis', 'pendants & lockets', 'socks & stockings', 'pullovers', 'sports wear', 'gowns', 'track pants', 'ponchos', 'leggings & jeggings', 'caps & hats', 'bandanas', 'windcheaters', 'jeans & shorts', 'western wear', 'baby girls', 'thermal suits', 'blouses', 'shirts, tops & tunics', 'arm warmers', 'saree falls', 'salwar kurta dupattas', 'gloves', 'sweatshirts'} \n",
      "\n",
      "Unique Subcategory 5 => {'swimsuits', 'jackets', 'fashion jackets', 'socks', 'jeans', 'kurtis', 'cardigans', 'shirts', 'salwar material', 'ethnic sets', 'night suits', 'thermal pants', 'garters', 'shapewears', 'fusion wear', 'night dresses & nighties', 'scarves & stoles', 'fashion tapes', 'shirt fabrics', 'saris', 'kurtas', 'wristbands', 'bras', 'tops', 'sarongs', 'cholis', 'kaftans', 'sweaters & pullovers', 'dresses', 'shrugs', 'thermal tops', 'tunics', 'shawls', 'kurtas & kurtis', 'pyjamas & lounge pants', 'tights', 'camisoles & slips', 'bodysuits', 'cargos', 'lingerie washbags', 't-shirts', 'panties', 'dungarees', 'bra strap cushions', 'hats', 'polos & t-shirts', 'None', 'jumpsuits', 'thermals', 'leggings & churidars', 'lehengas', 'track suits', 'shrugs & jackets', 'coats', 'mufflers', 'harem pants', 'trousers', 'bra pads & petals', 'innerwear & sleepwear', 'winter & seasonal wear', 'ethnic wear', 'dungarees & jumpsuits', 't-shirts & tops', 'ethnic bottoms', 'caps', 'lehenga choli material', 'dresses & skirts', 'shirt & trouser fabrics', 'trouser fabrics', 'skirts', 'suit fabrics', 'salwar', 'scarfs', 'shorts', 'bra straps', 'lehenga cholis', 'dress material', 'stockings', 'gowns', 'capris', 'track pants', 'bra extenders', 'leggings & jeggings', 'patialas & salwars', 'bra strap converters & clips', 'thermal suits', 'jeggings', 'polos & t-shirts (old)', 'gloves', 'sweatshirts'} \n",
      "\n",
      "Unique Subcategory 6 => {'kurtas', 'dresses', 'kurtis', 'leggings', 'salwars', 'churidars', 'dungarees', 'tops', 'patialas', 'thermals', 'skirts', 'jumpsuits', 'camisoles & slips', 'None', 'leggings & jeggings'}\n"
     ]
    }
   ],
   "source": [
    "print('\\n\\nUnique Subcategory 1 =>', set(large.subcategory_1),\n",
    "      '\\n\\nUnique Subcategory 2 =>', set(large.subcategory_2),\n",
    "      '\\n\\nUnique Subcategory 3 =>', set(large.subcategory_3),\n",
    "      '\\n\\nUnique Subcategory 4 =>', set(large.subcategory_4),\n",
    "      '\\n\\nUnique Subcategory 5 =>', set(large.subcategory_5),\n",
    "      '\\n\\nUnique Subcategory 6 =>', set(large.subcategory_6),\n",
    "     )"
   ]
  },
  {
   "cell_type": "code",
   "execution_count": 7,
   "metadata": {
    "scrolled": true
   },
   "outputs": [
    {
     "name": "stdout",
     "output_type": "stream",
     "text": [
      "Number of times the word top appears in subcategory levels 1 to 6 => 0 0 0 161717 86707 13\n"
     ]
    }
   ],
   "source": [
    "print('Number of times the word top appears in subcategory levels 1 to 6 =>',\n",
    "      sum(large.subcategory_1.str.contains('top')), \n",
    "      sum(large.subcategory_2.str.contains('top')), \n",
    "      sum(large.subcategory_3.str.contains('top')), \n",
    "      sum(large.subcategory_4.str.contains('top')), \n",
    "      sum(large.subcategory_5.str.contains('top')), \n",
    "      sum(large.subcategory_6.str.contains('top')),\n",
    "     )"
   ]
  }
 ],
 "metadata": {
  "kernelspec": {
   "display_name": "Python 3",
   "language": "python",
   "name": "python3"
  },
  "language_info": {
   "codemirror_mode": {
    "name": "ipython",
    "version": 3
   },
   "file_extension": ".py",
   "mimetype": "text/x-python",
   "name": "python",
   "nbconvert_exporter": "python",
   "pygments_lexer": "ipython3",
   "version": "3.6.5"
  }
 },
 "nbformat": 4,
 "nbformat_minor": 2
}
